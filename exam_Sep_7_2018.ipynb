{
 "cells": [
  {
   "cell_type": "markdown",
   "metadata": {},
   "source": [
    "Before you turn this problem in, make sure everything runs as expected. First, **restart the kernel** (in the menubar, select Kernel$\\rightarrow$Restart) and then **run all cells** (in the menubar, select Cell$\\rightarrow$Run All).\n",
    "\n",
    "Make sure you fill in any place that says `YOUR CODE HERE` or \"YOUR ANSWER HERE\", as well as your name and collaborators below:"
   ]
  },
  {
   "cell_type": "code",
   "execution_count": 1,
   "metadata": {},
   "outputs": [],
   "source": [
    "NAME = \"Rohan Chatterjee,2008264\"\n",
    "COLLABORATORS = \"\""
   ]
  },
  {
   "cell_type": "markdown",
   "metadata": {},
   "source": [
    "---"
   ]
  },
  {
   "cell_type": "markdown",
   "metadata": {
    "deletable": false,
    "editable": false,
    "nbgrader": {
     "checksum": "e53eb7da4b90cccdbeb5924177a0d295",
     "grade": false,
     "grade_id": "cell-bace731f185b39bb",
     "locked": true,
     "schema_version": 1,
     "solution": false
    }
   },
   "source": [
    "Fill in the cell above to provide us with your name and student number, like\n",
    "\n",
    "NAME = \"Adam Smith, #student number#\"\n",
    "\n",
    "where you replace \"#student number#\" with your ... (very good!)\n",
    "\n",
    "Unfortunately, you are not allowed to work with \"COLLABORATORS\" in this exam."
   ]
  },
  {
   "cell_type": "markdown",
   "metadata": {
    "deletable": false,
    "editable": false,
    "nbgrader": {
     "checksum": "6cd862f4345c0a072c59a404cda0ba85",
     "grade": false,
     "grade_id": "cell-895e9a7b94992ec9",
     "locked": true,
     "schema_version": 1,
     "solution": false
    }
   },
   "source": [
    "# exam September 7th, 2018\n",
    "\n",
    "With this python part of the exam you can earn at max. 4 points.\n",
    "\n"
   ]
  },
  {
   "cell_type": "markdown",
   "metadata": {
    "deletable": false,
    "editable": false,
    "nbgrader": {
     "checksum": "e7913cd5c9f8f9e4ad1b4b7e924a9a84",
     "grade": false,
     "grade_id": "cell-540987818af25557",
     "locked": true,
     "schema_version": 1,
     "solution": false
    }
   },
   "source": [
    "\n",
    "In the first cell of the notebook, give us your name and student number in the way indicated above. \n",
    "\n",
    "Fill in the notebook (see below for code cells and text cells that you need to fill in).\n",
    "\n",
    "If you look at the menus above (File, Edit, View etc.), there is one called \"Cell\". If you click on this, you can change the \"Cell Type\". Choose \"Code\" when you are typing python or R code. Choose \"Markdown\" when you are typing, well, markdown.\n",
    "\n",
    "When you finish the notebook, make sure that you **save it with the output of your code included**. \n",
    "\n",
    "Then put it on github, e.g. by dragging it onto github (see instructions below). \n",
    "\n",
    "Finally, add a link to your README file with the name of this exam: \"Exam September 7, 2018\".\n",
    "\n"
   ]
  },
  {
   "cell_type": "markdown",
   "metadata": {
    "deletable": false,
    "editable": false,
    "nbgrader": {
     "checksum": "de320ce66e4b6f0a0457a258dea1bd41",
     "grade": false,
     "grade_id": "cell-e1cf88cb799f1f43",
     "locked": true,
     "schema_version": 1,
     "solution": false
    }
   },
   "source": [
    "## Demand and equilibrium\n",
    "\n",
    "We start by importing the usual libraries."
   ]
  },
  {
   "cell_type": "code",
   "execution_count": 1,
   "metadata": {
    "deletable": false,
    "editable": false,
    "nbgrader": {
     "checksum": "7bd770ef54db47c3b6c8d0e31f6baef6",
     "grade": false,
     "grade_id": "cell-b895769bf40e183a",
     "locked": true,
     "schema_version": 1,
     "solution": false
    }
   },
   "outputs": [],
   "source": [
    "import matplotlib.pyplot as plt\n",
    "import pandas as pd\n",
    "import numpy as np\n",
    "from scipy import optimize\n",
    "%matplotlib inline"
   ]
  },
  {
   "cell_type": "markdown",
   "metadata": {
    "deletable": false,
    "editable": false,
    "nbgrader": {
     "checksum": "74eea1383af9a678cca5cd1641bd8cbd",
     "grade": false,
     "grade_id": "cell-83284c4090d6de8c",
     "locked": true,
     "schema_version": 1,
     "solution": false
    }
   },
   "source": [
    "#### a) [1 point] Explain in words what the following code does. Which property of booleans in python do we use for this to work?\n",
    "\n",
    "[hint: copy-paste part of the code in a cell to evaluate each step separately]"
   ]
  },
  {
   "cell_type": "code",
   "execution_count": 2,
   "metadata": {
    "deletable": false,
    "editable": false,
    "nbgrader": {
     "checksum": "a107c376d499a16a0e27d813fba3c499",
     "grade": false,
     "grade_id": "cell-7770128c0a989c60",
     "locked": true,
     "schema_version": 1,
     "solution": false
    }
   },
   "outputs": [
    {
     "data": {
      "text/plain": [
       "0.625"
      ]
     },
     "execution_count": 2,
     "metadata": {},
     "output_type": "execute_result"
    }
   ],
   "source": [
    "np.sum(np.array([1,2,3,4,5,6,7,8])>3)/len(np.array([1,2,3,4,5,6,7,8])>3)"
   ]
  },
  {
   "cell_type": "code",
   "execution_count": 5,
   "metadata": {},
   "outputs": [
    {
     "name": "stdout",
     "output_type": "stream",
     "text": [
      "[False False False  True  True  True  True  True]\n",
      "[False False False  True  True  True  True  True]\n",
      "8\n",
      "5\n"
     ]
    }
   ],
   "source": [
    "print(np.array([1,2,3,4,5,6,7,8])>3) #Checking What The code inside np.sum does\n",
    "print(np.array([1,2,3,4,5,6,7,8])>3)#Checking What The code inside len does\n",
    "print(len(np.array([1,2,3,4,5,6,7,8])>3)) #Checking What The code len does\n",
    "print(np.sum(np.array([1,2,3,4,5,6,7,8])>3))"
   ]
  },
  {
   "cell_type": "markdown",
   "metadata": {
    "deletable": false,
    "nbgrader": {
     "checksum": "3a32df4588a1c3424a5d2e79404d1f9f",
     "grade": true,
     "grade_id": "cell-8a5761555a34b60b",
     "locked": false,
     "points": 1,
     "schema_version": 1,
     "solution": true
    }
   },
   "source": [
    "YOUR ANSWER HERE -  The property of booleans treating True as 1 and False as 0 is being used here.The code inside np.sum is a boolean, which returns True if a number in the array is greater than 3. Since there are 5 True's(the rest are false hence 0) , python will add them up as it is inside np.sum, giving us 5. \n",
    "\n",
    "The code in the denominator, has the same array the numerator has, only this time, it is inside len. Len simply counts the number of elements in the array, so it will return 8 as there are 8 elements. It does not distinguish between True or False or 0 and 1.\n",
    "\n",
    "In the end, we get 5/8 which is 0.625"
   ]
  },
  {
   "cell_type": "markdown",
   "metadata": {
    "deletable": false,
    "editable": false,
    "nbgrader": {
     "checksum": "954d5a96439e4265a384d91a97b22648",
     "grade": false,
     "grade_id": "cell-1a9c57d4d1fc34dc",
     "locked": true,
     "schema_version": 1,
     "solution": false
    }
   },
   "source": [
    "Consider a market with 1000 consumers. Each consumer is willing to buy either 1 or 0 units of the product in this market. If the consumer does not buy, her utility equals 0.\n",
    "\n",
    "The vector of valuations of all 1000 consumers in the market is given by the vector `vector_utilities` below.\n"
   ]
  },
  {
   "cell_type": "code",
   "execution_count": 7,
   "metadata": {
    "deletable": false,
    "editable": false,
    "nbgrader": {
     "checksum": "916e0335b3020a8c0ff45e237001f8b7",
     "grade": false,
     "grade_id": "cell-d33704e6e42e5387",
     "locked": true,
     "schema_version": 1,
     "solution": false
    }
   },
   "outputs": [],
   "source": [
    "N_consumers = 1000\n",
    "vector_utilities = np.random.normal(10,3,size=N_consumers)"
   ]
  },
  {
   "cell_type": "code",
   "execution_count": 11,
   "metadata": {},
   "outputs": [
    {
     "name": "stdout",
     "output_type": "stream",
     "text": [
      "[ 8.15201032 13.31433886  9.20016552 10.85217428  9.86018406 11.39765522\n",
      " 13.77332969 13.64739979 11.87881383  6.49734721  3.36669577  5.58935345\n",
      " 10.14100027 10.89652781  7.72165989  8.03557952  8.5450961  17.79920163\n",
      " 15.05577003  4.56166468 11.23858739 11.16543089  9.69801293  8.40625421\n",
      " 10.1327841  11.52793759 15.54466961 14.44619391  2.3047824  13.65170409\n",
      " 10.51263198  7.3019774  11.96175937  9.56464932 10.25548306 12.51435798\n",
      "  7.94865902  7.68636944  3.58592529 11.90434211  8.04038266 11.40336349\n",
      " 11.4215558   7.88109165  7.89619743 11.70230362 13.18082131 14.26174356\n",
      " 14.08353904 13.04667615  6.0091119  13.75537441 10.8944026   8.04432292\n",
      " 13.40622494 15.87941125 11.42801315  7.62334072 10.54627231  5.13840744\n",
      " 13.02536374  9.23085445  6.36025001  8.83587108  5.57039365 11.02824564\n",
      " 13.35765146  8.90416784 11.69077669 12.00375838  6.49509999  6.96743833\n",
      "  6.37526989 11.35772324 12.96885274  9.46915607 13.2466778   9.41582704\n",
      " 12.82280022 11.17843336 11.79315211  6.44262046  6.29445387  9.75492979\n",
      " 13.17262627  8.84443602  6.58895403  6.68196403 13.75680522  8.75559436\n",
      "  9.31586533 11.84403081  9.86350331 13.86400914  8.12112453  6.83069596\n",
      " 11.8944022  10.63263359  5.58337398 16.56665647  8.58778217  5.58501551\n",
      " 11.47739434  4.63027605 11.40560405  5.67932133  7.72383252 11.72747493\n",
      "  8.05132404  7.77613835 13.60395324  9.15199852 11.29913859  7.42962858\n",
      " 10.8444493  13.23682486  8.85702005  4.40427614 11.16484369 10.4861737\n",
      "  4.13579937 14.08729611 11.01020018 15.84726715 11.84825635 10.84866652\n",
      " 12.00887999 12.66912141 10.73607014 14.06912782  8.66439609  8.08002762\n",
      "  9.07742462  6.18633291  9.53133032 11.46183971 13.81094047  6.95758267\n",
      " 10.20067206  8.13277919  6.66459035  6.73427149  9.19140365  8.26183465\n",
      " 13.49942341 12.11631991  8.22636855 12.07592738 11.76178477  8.80935581\n",
      " 13.27787347 12.2348902   8.80404516 10.17611463  5.87427419 11.85593637\n",
      "  4.31239115  9.9355559  11.65811826  9.52379431  9.36482576  8.7314097\n",
      " 11.01105398  4.95893093  8.90410045  4.23464613 12.78207475 13.87274726\n",
      " 17.61609088 10.6114035   7.97577523  7.68045133 12.46938308  5.01796184\n",
      " 12.32213197  8.11530894  8.97376318 12.32993265  8.00515135 10.75355513\n",
      " 15.94144002  5.99246301 13.07598449  7.40355236  8.26748851 13.47686254\n",
      " 11.69543582 14.10246688 10.22116851 10.83805334  9.96043969 10.75294448\n",
      "  5.6396177   5.9903281  12.24058843 10.8762225  12.97380031  8.74783293\n",
      "  8.15407012 12.2042287   8.89038027 13.76716751 11.92240332 14.47844344\n",
      " 10.36872389  8.96682459  7.87119718 13.74958727 10.85891946  9.869595\n",
      "  8.3023357  14.06884027  5.6849319  10.01042103 12.76502133 11.51344528\n",
      "  4.35980576 10.55705767 11.66316114  7.37274909  7.67962022  4.25540092\n",
      "  5.41813117 10.66453213 15.46087636  5.73495127 12.72479164  7.077066\n",
      "  9.58471246  8.37032278 11.89574915 12.04361311  7.76259343 13.56975104\n",
      "  6.46092332 12.15368659  6.71475331 12.51639348 10.9940042   5.35110149\n",
      " 12.06234538 10.4175963  12.52479296  6.64467776 10.45475086 13.34615279\n",
      " 11.39370704 14.78850975 11.43970798 11.13567578  8.45307117  8.6194024\n",
      " 12.84908685 11.53928721  9.91812231 16.49496008  7.67105024  9.4058502\n",
      " 12.27391643  4.98504843 15.53931541 11.58403037 10.05502308 11.24413173\n",
      " 12.99682492 11.17427892  8.08787553  7.68496972  8.96110898  8.5935462\n",
      "  9.13486959  9.20525983 12.61409764 15.01487678  8.32305253  4.95627127\n",
      " 10.38266289  7.63084787 11.55355542  7.55578233 11.55047934  9.63980183\n",
      "  4.23641794  4.73135047  8.08071365 13.47797474 14.56758028 10.51679366\n",
      "  7.65419547  6.72953145 12.30617967 11.16223136  7.8130017   8.59379876\n",
      "  7.39050052  7.5622383   7.42524076  2.14507196 10.46428127 13.19565926\n",
      "  9.20695617  7.41125382  8.43109717 10.80368752  9.06984588 11.3560554\n",
      " 13.67512216 12.22514181 12.05897404  9.64919966  7.19204139 11.49553768\n",
      "  9.62667114 11.17077561 11.25608326 13.14905582 12.07394251 10.37153721\n",
      "  4.65797747 13.22109074  6.03493393 11.28446784  4.81021062 10.7554516\n",
      " 11.09854139 17.44335461  5.81630089  8.9415137  10.95552837 10.94364086\n",
      " 13.57072276 11.1640393   9.60774806  8.00946825 12.41290184  8.84317285\n",
      " 10.97274025  5.9974768  10.85163763 13.53821839  7.06127872 14.18411524\n",
      "  7.84277356 13.62232949 13.26930421  6.92905368  6.94435992  8.88764945\n",
      " 13.10004916 14.3827318  10.44728165 11.78641456  5.19503511  8.17321264\n",
      "  5.9769943   8.16512544  8.02390978 11.40089348  1.17879287 10.18164913\n",
      "  8.44897     9.14066327 10.57846202 12.55818684  6.12633029 15.39328293\n",
      "  7.31698998  7.03207738 10.8100236  13.67260548  8.17267563 14.88056451\n",
      "  9.53611569 11.0851391  17.21052038  7.76126838  9.53321428  8.71411315\n",
      " 10.52780134 10.49937679 10.98383835  9.78506426  8.28904772  4.28966459\n",
      "  6.85320438 11.12296003 12.33173801  8.39436789 11.69223416  7.54678558\n",
      "  8.88740701 10.78490699  9.079718   10.73896528  8.68519883  5.82574917\n",
      "  6.75551024  9.04756679  8.16874431  9.17656146 11.5877063  11.91143797\n",
      "  9.04741094 13.82134294  9.78569373 10.99594067  8.85981213  8.0667996\n",
      " 10.28256747  7.82164545 14.52304302 10.73098465 11.51722798  9.16688769\n",
      " 11.77510215 13.36642542  8.69884427 14.0861261  14.18961316  8.09221837\n",
      " 10.3536913   5.87501081  8.20517673 14.12146463 10.1753251   5.81237214\n",
      "  5.63174706  5.09661745 10.03803233  6.06267044  4.19413422  4.92867936\n",
      "  6.67001701  9.77818721 14.89070895 13.07794294 10.60902553  6.00492494\n",
      " 10.31648607  2.42771418 12.41955061 14.22327664  9.94534206 10.1213652\n",
      " 10.85886106 12.56927575  9.09142555 15.37646807 15.13518348  5.17392583\n",
      " 11.63262913  7.55768726 11.94881354  8.27556417 13.65720124  4.92933895\n",
      "  6.5668156  11.51884139 14.61391976  4.99505506  7.64510739  8.56366721\n",
      "  9.6335651   9.15728337  9.19706749  8.92157676  6.48148426 10.90082748\n",
      "  9.55170112  7.74456559 11.45069008 11.07452823 12.77791099 15.80538788\n",
      "  7.30713309 12.59583116  8.28769811 13.28140908  7.57750802 14.84247799\n",
      "  9.84867379 10.46310554  6.23927271 11.86704929  7.91706957  8.03315562\n",
      "  6.47262588  7.99061933  3.30342735 12.57251785  9.63096686  8.31445916\n",
      " 10.94061208 14.3268952  11.47527163  8.73738426  9.19082364  6.02040481\n",
      " 11.73753805 13.86491702  8.29211019 11.30256659  8.93330464 15.06238661\n",
      "  8.8980626   7.97656485  6.15532556  8.10431624  5.11597561  8.80377308\n",
      " 11.54942351 12.8479309  11.256746    8.62438136  9.26300213  7.27663249\n",
      "  8.05155791 12.11579748 10.75008414 16.50930733 11.32721278  9.30463079\n",
      "  2.45487699 13.15629408  3.00952515 11.2289522  11.57849152 11.61528078\n",
      " 11.67394285  9.15213921  9.71820024  7.84243369 10.93734616  5.94567939\n",
      " 10.47104592  9.58628402  7.52226161 10.69078516 10.85643472 12.12445038\n",
      "  7.81622548 15.01639845 17.43745531 11.61721867  9.30679023 10.29494501\n",
      " 10.22573865  6.37510457 10.27718882 11.60573035 15.30992398 10.64622395\n",
      " 11.26047001  4.53448314  6.28068183 10.71826649  9.64804081  6.13479487\n",
      "  9.0830485  11.72027167  9.13594835  9.96942035  9.65189643  9.96234821\n",
      "  6.8111529  13.12832809  9.07320679 12.63291132  3.64602986 14.32544484\n",
      " 15.89040693 10.33158773  8.63343967  9.85440183 11.97059445 11.61267704\n",
      " 15.05810914  7.61107368 12.46815146 11.19627197  8.87566454 13.18481106\n",
      "  7.34979095 13.6037186  12.27675553  9.89429524 12.25100303 13.09332236\n",
      "  8.24070742 13.62961578  9.98700098  2.41484878 12.08583114 16.08992288\n",
      " 11.4122721  13.60366723  9.68531771 12.67950363 13.93098571  7.89403202\n",
      "  9.94369649  7.81501974 12.77226127  5.4826503  14.68749911  6.10631837\n",
      "  7.69043027  7.52748115 11.50687172 10.49984516 14.17881775  9.68896933\n",
      " 10.1195261   8.38971671  8.81681711 14.17009459 10.52842477 10.23323335\n",
      "  6.04753655  9.93913214  8.89419417 10.11842234 13.27100636  9.38248301\n",
      "  6.77100949  8.170981    7.32113465  9.82457874 10.17220935 13.3237352\n",
      " 12.17717789 14.36675024 11.65719039  8.6009818  10.55123916  8.61133654\n",
      " 14.99473849 12.15333056 11.70793648 13.44703937 12.26117182  7.2204647\n",
      " 10.92970406  5.71192437 15.99728291 10.38276676  7.58250311 11.33049945\n",
      " 12.6863451  13.27096656 13.67443273  9.78894536 10.98802521 10.83338737\n",
      " 10.76360659  8.77215522  9.09530967 11.78755231 10.91612341 10.46426158\n",
      " 11.57834268 10.14023017 12.18389103  6.41813771  8.51177003 10.62611215\n",
      " 13.46988521  7.30889237  9.96158885  8.68532258  9.8291418   8.40603794\n",
      " 13.6190848   6.87586926 12.55475626  7.19519399 10.95300874  9.54344114\n",
      "  6.71561494  3.10596257  9.24361705 10.69540882 16.19434263 10.44097475\n",
      "  8.03913128 11.46849628 10.03058319 10.09135541  6.73253135  2.324599\n",
      "  8.35023218 11.14005268 10.99223815  9.99833013  1.33324916  8.13066943\n",
      " 12.78757705  8.21910526 13.26110397 12.23250551  8.38235917 14.89754797\n",
      "  9.97770879  9.52192528  9.49437984 12.47373886 16.10117646  8.08798389\n",
      "  8.18841395  5.98240732 14.65236335 12.5375645   8.48846001  8.85638835\n",
      " 12.73997751 13.49877201  7.36538042 12.15309763  9.36177037 12.56815395\n",
      "  6.64227269  9.3151287  10.85391334 10.24771932  8.81037766 10.66350209\n",
      " 13.98446695 11.01338113  9.19090633 11.26419568 11.0791285  12.84153021\n",
      "  9.37364731 11.80897188 11.92170727  4.74870692  8.45937271 17.95296418\n",
      " 10.85902415  5.33658458 16.42026611 18.56311948 10.49312558 10.74555652\n",
      "  6.98073287  9.38896207  7.8574554  12.37003567 11.54750898  8.39795745\n",
      "  5.36974372  7.16628173 14.66936861 13.72043515 11.06581534 10.63641667\n",
      " 11.27277333  5.82287974  5.50603721  9.29471682 10.87710327  5.90579854\n",
      " 10.64727412  6.61407963 10.85931643  5.49471743  8.76769055  9.98452034\n",
      " 14.60454396  9.04509113  8.27811988 13.34599237 11.27857321  9.93399587\n",
      " 10.99711512  9.81058289  3.6843918   5.69990937  7.56461204 11.3876626\n",
      "  7.69392118  6.60134729 14.3690925   4.8460284  10.80506039 11.01863075\n",
      " 11.02882018 16.24127263  7.93551433 11.82437355 11.76286727  9.48141147\n",
      "  6.74616104 11.5852218  17.74552106 14.63103839  8.89525325 11.7602841\n",
      "  9.71937504 11.3897789  13.82284871 15.5401087  12.19328123 13.89576309\n",
      "  6.03266635 14.54542489 11.27304528 13.00822978  9.12820218  6.83778849\n",
      " 14.73758005 11.89077779 13.597591    7.14240256 10.26818536  9.83519421\n",
      "  9.29019218  9.54056035 12.59555114  8.21458136  8.83445917  7.6177521\n",
      " 11.38458318  8.43670694  8.46627487  8.61070967 11.57783597 10.53374878\n",
      "  8.08705829 17.39049339  6.39652338 10.28898264  6.59034153  7.00280986\n",
      "  7.47385445  8.37913193 11.3992504   8.31874841 10.12787329  9.66489461\n",
      "  8.96479313 14.213296   10.79341835  9.23873486 10.07607894  8.68563131\n",
      " 15.09075454  6.43686861 15.17423751 10.89435865  8.91889746 17.55548361\n",
      " 11.49774262  8.58353806  5.2614378   8.69529011 14.15893916  9.82036729\n",
      "  5.47594231 16.80114751  6.65769833 10.15070485  8.81035439 14.56360454\n",
      "  4.91579209 13.27287979 11.96221333  9.65873479  8.81705027  8.27933253\n",
      " 12.65034432  9.14759624  5.36652161 16.32198709  7.9055649  13.32180701\n",
      "  5.68244661  8.88349494  8.32463826  6.79752062 12.89864797 12.22941897\n",
      " 10.09460995  9.87446396  7.953245    6.56826497 10.1526146   6.02588648\n",
      " 14.5615324  10.78099967  5.28540232  9.11146446  5.90768183 11.04547509\n",
      " 10.87302844  7.94646408  8.60024496  8.05768561  8.92602992 13.72270742\n",
      " 12.28184491 11.72410074 14.18999883 11.39104129  8.94991902  8.27680545\n",
      "  6.7991553  12.13143694 10.12093844  9.31831174  5.40406843  7.6984373\n",
      "  8.99732542  9.14848192  5.24768295 11.83256397  5.09261853 11.35489944\n",
      " 11.3966765   5.69440498 10.99509411  8.75234229  9.76942582 12.78609272\n",
      "  5.00914822  5.37870259  8.04253921 14.04915906  8.21956415 14.68952751\n",
      "  8.2636317   9.88743427 10.22009289  9.59574138 11.91209953  7.42343793\n",
      "  7.2945175   8.12575538 11.24213743  4.85550442  9.99904678  6.44793928\n",
      " 14.04321055  7.74255991 15.23477093  8.99791975  9.38075785  7.63404389\n",
      "  8.01180703  8.91565425  8.13032162  7.87049332 17.08176067  8.12944811\n",
      " 11.66271247 11.35313955 10.51792864 12.2045293   9.6839762   9.27720877\n",
      "  5.83262172 11.42657592  6.19748236  7.35667705 13.8186199  11.52406275\n",
      " 14.67085914 10.25700197 11.24202175 10.07682744 10.19569896  6.79128922\n",
      "  3.6549615  12.67568593  8.75418098 10.75811444 14.68255587 10.62885162\n",
      " 10.4371086  16.53042792 14.02981422 14.54782846  5.17954612 13.45891174\n",
      "  2.8762296   5.24966058  8.19290271  5.80878447  9.87320581  8.68969199\n",
      "  9.60784848  9.9142334  12.65559502  5.99905208 18.53563879  9.20057818\n",
      " 12.27740535  7.71722761 11.95514475 12.15483744]\n"
     ]
    }
   ],
   "source": [
    "print(vector_utilities)"
   ]
  },
  {
   "cell_type": "markdown",
   "metadata": {
    "deletable": false,
    "editable": false,
    "nbgrader": {
     "checksum": "384f67102189bb6ecdfb036b331c113a",
     "grade": false,
     "grade_id": "cell-3b8ee172d9950128",
     "locked": true,
     "schema_version": 1,
     "solution": false
    }
   },
   "source": [
    "#### b) [0.5 points] Explain what the code `np.random.normal` does."
   ]
  },
  {
   "cell_type": "markdown",
   "metadata": {
    "deletable": false,
    "nbgrader": {
     "checksum": "2169b1e7f731f29c623bcc250e54e587",
     "grade": true,
     "grade_id": "cell-a5e7853f661e19b2",
     "locked": false,
     "points": 0.5,
     "schema_version": 1,
     "solution": true
    }
   },
   "source": [
    "YOUR ANSWER HERE - np.random.normal draws random numbers from the normal distribution, that is from the probability density function of the bell shaped curve.[Note-- all bell shaped curves are not normally distributed]"
   ]
  },
  {
   "cell_type": "markdown",
   "metadata": {
    "deletable": false,
    "editable": false,
    "nbgrader": {
     "checksum": "523c4611a9ddbfb2d6623e06f3607c07",
     "grade": false,
     "grade_id": "cell-4b33762aa4a601fe",
     "locked": true,
     "schema_version": 1,
     "solution": false
    }
   },
   "source": [
    "#### c) [1. point] (i) Create a histogram of the vector `vector_utilities`. (ii) Make sure that we have relative frequencies (not absolute numbers) on the vertical axis [hint: you can use google to figure out how this works] (iii) Put the label 'utility' on the horizontal axis and the label 'frequency' on the vertical axis."
   ]
  },
  {
   "cell_type": "code",
   "execution_count": 23,
   "metadata": {
    "deletable": false,
    "nbgrader": {
     "checksum": "16debdd606d4af967efa09bbca10b9bb",
     "grade": true,
     "grade_id": "cell-5ee215676b91f504",
     "locked": false,
     "points": 1,
     "schema_version": 1,
     "solution": true
    }
   },
   "outputs": [
    {
     "data": {
      "image/png": "[encoded data removed]",
      "text/plain": [
       "<matplotlib.figure.Figure at 0x1a123ace48>"
      ]
     },
     "metadata": {},
     "output_type": "display_data"
    }
   ],
   "source": [
    "\n",
    "plt.hist(vector_utilities, bins = 25, orientation='vertical') #code to make histogram\n",
    "plt.ylabel('Frequency') #naming vertical axis\n",
    "plt.xlabel('Utility') #naming horizontal axis\n",
    "plt.show()"
   ]
  },
  {
   "cell_type": "markdown",
   "metadata": {
    "deletable": false,
    "editable": false,
    "nbgrader": {
     "checksum": "3485a92688a0345c2d40931951cee684",
     "grade": false,
     "grade_id": "cell-3cc076ae39753881",
     "locked": true,
     "schema_version": 1,
     "solution": false
    }
   },
   "source": [
    "#### d) [0.5 points] Complete the following function which gives for each price `p` the demand (number of consumers willing to buy at price `p`.\n",
    "\n",
    "[hint 1: what must be true for an element in `vector_utilities` for this consumer to buy the product?]\n",
    "\n",
    "[hint 2: part of what you learned under a) may be useful here]"
   ]
  },
  {
   "cell_type": "code",
   "execution_count": 7,
   "metadata": {
    "deletable": false,
    "nbgrader": {
     "checksum": "c1b2a7dbf7c6cdd23736d236c6672135",
     "grade": true,
     "grade_id": "cell-0f18e4fded25833f",
     "locked": false,
     "points": 0.5,
     "schema_version": 1,
     "solution": true
    }
   },
   "outputs": [
    {
     "data": {
      "text/plain": [
       "390"
      ]
     },
     "execution_count": 7,
     "metadata": {},
     "output_type": "execute_result"
    }
   ],
   "source": [
    "def demand(p):\n",
    "    a=[]\n",
    "    for i in vector_utilities :  \n",
    "         if  i-p>0 :# people will buy the good only if utility is higher than price\n",
    "                a.append(i)\n",
    "    return len (a)\n",
    "                \n",
    "        \n",
    "            \n",
    "demand(10.71) #checking the function."
   ]
  },
  {
   "cell_type": "markdown",
   "metadata": {},
   "source": [
    "#### e) [0.5 points] Plot this demand function. Recall that economists tend to put quantity on the horizontal axis and price on the vertical axis.\n",
    "\n",
    "[hint: if for some reason you could not solve d) work with the following --incorrect-- demand function:\n",
    "\n",
    "`def demand(p):\n",
    "   return 1000-p`\n",
    "\n",
    "to finish the exam.]"
   ]
  },
  {
   "cell_type": "code",
   "execution_count": 8,
   "metadata": {
    "deletable": false,
    "nbgrader": {
     "checksum": "999db468136d31b16196015f24ac5fa7",
     "grade": true,
     "grade_id": "cell-e88dc4842fb2c38c",
     "locked": false,
     "points": 0.5,
     "schema_version": 1,
     "solution": true
    }
   },
   "outputs": [
    {
     "data": {
      "text/plain": [
       "Text(0,0.5,'Price')"
      ]
     },
     "execution_count": 8,
     "metadata": {},
     "output_type": "execute_result"
    },
    {
     "data": {
      "image/png": "[encoded data removed]",
      "text/plain": [
       "<Figure size 432x288 with 1 Axes>"
      ]
     },
     "metadata": {},
     "output_type": "display_data"
    }
   ],
   "source": [
    "e= np.arange(0,21,1)\n",
    "plt.plot([demand(q) for q in e],e)\n",
    "plt.xlabel('Quantity')\n",
    "plt.ylabel('Price')"
   ]
  },
  {
   "cell_type": "markdown",
   "metadata": {
    "deletable": false,
    "editable": false,
    "nbgrader": {
     "checksum": "4465308442518b71a3aabe5c50806149",
     "grade": false,
     "grade_id": "cell-1f9775ff27f62024",
     "locked": true,
     "schema_version": 1,
     "solution": false
    }
   },
   "source": [
    "Assume that there is a fixed supply of 400 units of this product. Consider the following function `excess demand`."
   ]
  },
  {
   "cell_type": "code",
   "execution_count": 9,
   "metadata": {
    "deletable": false,
    "editable": false,
    "nbgrader": {
     "checksum": "7483b16646d39708aeaa8cf5e4a50198",
     "grade": false,
     "grade_id": "cell-09b4afb1c848ad52",
     "locked": true,
     "schema_version": 1,
     "solution": false
    }
   },
   "outputs": [],
   "source": [
    "supply = 400\n",
    "def excess_demand(p):\n",
    "    return demand(p)-supply"
   ]
  },
  {
   "cell_type": "markdown",
   "metadata": {
    "deletable": false,
    "editable": false,
    "nbgrader": {
     "checksum": "b68a36561d750b4325b29a60cd85c95c",
     "grade": false,
     "grade_id": "cell-9847a5147fc6bc0b",
     "locked": true,
     "schema_version": 1,
     "solution": false
    }
   },
   "source": [
    "#### f) [0.5 points] Use a numerical solver to solve for the equilibrium price. Use the figure under e) to give a reasonable starting point for the numerical solver.\n",
    "\n",
    "[hint: what must be true for `excess_demand` at the equilibrium price?]"
   ]
  },
  {
   "cell_type": "code",
   "execution_count": 11,
   "metadata": {
    "deletable": false,
    "nbgrader": {
     "checksum": "d9385c965608e0babffe255a7d375e19",
     "grade": true,
     "grade_id": "cell-6c036cfb38c024d3",
     "locked": false,
     "points": 0.5,
     "schema_version": 1,
     "solution": true
    }
   },
   "outputs": [
    {
     "data": {
      "text/plain": [
       "array([10.62932481])"
      ]
     },
     "execution_count": 11,
     "metadata": {},
     "output_type": "execute_result"
    }
   ],
   "source": [
    "optimize.fsolve(lambda p : excess_demand(p),11) #fsolve finds the zeros of an equation and  excess_demand must be 0 at equilibrium price"
   ]
  },
  {
   "cell_type": "markdown",
   "metadata": {},
   "source": [
    "## Github\n",
    "\n",
    "After you have finished, we need to upload this notebook on github."
   ]
  },
  {
   "cell_type": "markdown",
   "metadata": {},
   "source": [
    "Instructions on how to upload this on github can be found [on this page](http://janboone.github.io/programming-for-economists/github.html). This page has two screencasts: one shows how to drag the notebook onto your github page, the other shows how you can use the command line to upload your notebook.\n"
   ]
  },
  {
   "cell_type": "markdown",
   "metadata": {},
   "source": [
    "Remember to update the README file in your repository to include a link to this notebook on github.\n",
    "\n",
    "\n",
    "The links that you should post start with “github.com/” and are NOT of the form “http://localhost”. Make sure you test your links after uploading."
   ]
  },
  {
   "cell_type": "code",
   "execution_count": null,
   "metadata": {},
   "outputs": [],
   "source": []
  }
 ],
 "metadata": {
  "anaconda-cloud": {},
  "kernelspec": {
   "display_name": "Python 3",
   "language": "python",
   "name": "python3"
  },
  "language_info": {
   "codemirror_mode": {
    "name": "ipython",
    "version": 3
   },
   "file_extension": ".py",
   "mimetype": "text/x-python",
   "name": "python",
   "nbconvert_exporter": "python",
   "pygments_lexer": "ipython3",
   "version": "3.6.4"
  }
 },
 "nbformat": 4,
 "nbformat_minor": 1
}
