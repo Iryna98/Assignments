{
 "cells": [
  {
   "cell_type": "markdown",
   "metadata": {},
   "source": [
    "# Functions and Controls\n",
    "Mark Klik & Misja Mikkers\n",
    "\n",
    "# Packages\n",
    "\n",
    "For this notebook we need `tidyverse`."
   ]
  },
  {
   "cell_type": "code",
   "execution_count": null,
   "metadata": {},
   "outputs": [],
   "source": [
    "library(tidyverse)"
   ]
  },
  {
   "cell_type": "markdown",
   "metadata": {},
   "source": [
    "# Introduction\n",
    "\n",
    "In this notebook we will explore the use of control statements and functions. These concepts are part in more or less all programming languages. \n",
    "\n",
    "# Control statements\n",
    "\n",
    "\n",
    " `R` knows a a limited number of control statements:\n",
    "\n",
    "* `if`, `else` (or  `ifelse`)\n",
    "* `for`\n",
    "* `repeat` / `while`\n",
    "* `break`\n",
    "* `next`\n",
    "* `return`\n",
    "\n",
    "With these statements you are able to run a specific part of your code, depending on a condition or run so called _loops_ in your notebook.\n",
    "\n",
    "We will start with the `if` statement. The `if` statement determines if a condition is TRUE or FALSE and excute a part of code dependent on the outcome.\n",
    "\n",
    "For example,"
   ]
  },
  {
   "cell_type": "code",
   "execution_count": null,
   "metadata": {},
   "outputs": [],
   "source": [
    "x <- 6\n",
    "\n",
    "if (x < 4) {\n",
    "  print(\"smaller\")  # first part of the code\n",
    "} else {\n",
    "  print(\"larger\")  # second part of the code\n",
    "}"
   ]
  },
  {
   "cell_type": "markdown",
   "metadata": {},
   "source": [
    "Because `x` fullfills the second condition, the second part of the code will be executed.\n",
    "To use a part of the code multiple times, you can use a `for` loop:\n",
    "\n",
    "\n"
   ]
  },
  {
   "cell_type": "code",
   "execution_count": null,
   "metadata": {},
   "outputs": [],
   "source": [
    "for (counter in 1:5) {\n",
    "  print(counter)\n",
    "}"
   ]
  },
  {
   "cell_type": "markdown",
   "metadata": {},
   "source": [
    "The same code-snippet will be executed 5 times, because the counter gets the value from 1 to 5\n",
    " (`1:5` is equivalent to `c(1, 2, 3, 4, 5)`). \n",
    " \n",
    "An iteration is each time a part of the code in the loop will be executed. You can skip an iteration with the command `next`."
   ]
  },
  {
   "cell_type": "code",
   "execution_count": 6,
   "metadata": {},
   "outputs": [
    {
     "name": "stdout",
     "output_type": "stream",
     "text": [
      "[1] 1\n",
      "[1] 2\n",
      "[1] 4\n",
      "[1] 5\n"
     ]
    }
   ],
   "source": [
    "for (counter in 1:5) {\n",
    "  if (counter == 3) next\n",
    "  print(counter)\n",
    "}"
   ]
  },
  {
   "cell_type": "markdown",
   "metadata": {},
   "source": [
    "The iteration  `counter == 3` is not executed..If you want to stop the _for loop_ completely, you can use `break`:"
   ]
  },
  {
   "cell_type": "code",
   "execution_count": 7,
   "metadata": {},
   "outputs": [
    {
     "name": "stdout",
     "output_type": "stream",
     "text": [
      "[1] 1\n",
      "[1] 2\n"
     ]
    }
   ],
   "source": [
    "for (counter in 1:5) {\n",
    "  if (counter == 3) break\n",
    "  print(counter)\n",
    "}"
   ]
  },
  {
   "cell_type": "markdown",
   "metadata": {},
   "source": [
    "All interations after `counter == 2` are not executed.\n",
    "\n",
    "Similar code can be produced with `while` and `repeat`. \n",
    "\n",
    "`while` allows you to run code until a condition is fullfilled:"
   ]
  },
  {
   "cell_type": "code",
   "execution_count": 8,
   "metadata": {},
   "outputs": [
    {
     "name": "stdout",
     "output_type": "stream",
     "text": [
      "[1] 1\n",
      "[1] 2\n",
      "[1] 3\n",
      "[1] 4\n",
      "[1] 5\n"
     ]
    }
   ],
   "source": [
    "counter <- 1\n",
    "\n",
    "while (counter <= 5) {\n",
    "  print(counter)\n",
    "  counter <- counter + 1\n",
    "}"
   ]
  },
  {
   "cell_type": "markdown",
   "metadata": {},
   "source": [
    "and:"
   ]
  },
  {
   "cell_type": "code",
   "execution_count": null,
   "metadata": {},
   "outputs": [],
   "source": [
    "repeat {\n",
    "  number <- sample(1:10, 1)\n",
    "  print(number)\n",
    "    if (number > 8) break\n",
    "}"
   ]
  },
  {
   "cell_type": "markdown",
   "metadata": {},
   "source": [
    "(print random numbers until number> 8). \n",
    "\n",
    "Most people prefer `for` loops, therefore, you rarely see `while` and `repeat`.\n",
    "\n",
    "> **Assignment**:\n",
    "Construct a `for` loop that runs from 1 to 100 and test for each number if it can be divided by 2,3,5. Count the numbers that are **not** divisible by 2,3,5 and print these numbers.\n",
    "> _Hint: use the function `round` for the division test in combination with the `if` statement and the `next` statement_\n",
    "\n"
   ]
  },
  {
   "cell_type": "code",
   "execution_count": 43,
   "metadata": {},
   "outputs": [
    {
     "name": "stdout",
     "output_type": "stream",
     "text": [
      "[1] 1\n",
      "[1] 7\n",
      "[1] 11\n",
      "[1] 13\n",
      "[1] 17\n",
      "[1] 19\n",
      "[1] 23\n",
      "[1] 29\n",
      "[1] 31\n",
      "[1] 37\n",
      "[1] 41\n",
      "[1] 43\n",
      "[1] 47\n",
      "[1] 49\n",
      "[1] 53\n",
      "[1] 59\n",
      "[1] 61\n",
      "[1] 67\n",
      "[1] 71\n",
      "[1] 73\n",
      "[1] 77\n",
      "[1] 79\n",
      "[1] 83\n",
      "[1] 89\n",
      "[1] 91\n",
      "[1] 97\n",
      "[1] 26\n"
     ]
    }
   ],
   "source": [
    "counter <- 0\n",
    "\n",
    "for (number in 1:100) {\n",
    "    if (number %% 2 == 0)  next \n",
    "    if (number %% 3 == 0)  next \n",
    "    if (number %% 5 == 0)  next \n",
    "    print(number)\n",
    "    counter <- counter + 1\n",
    "}\n",
    "\n",
    "print(counter)"
   ]
  },
  {
   "cell_type": "markdown",
   "metadata": {},
   "source": [
    "The function `cat` is used, because `print` returns the values as a list, while `cat` returns a row.\n",
    "\n",
    "# Functions\n",
    "\n",
    "R is build on function. By using commands from packages, you use -often without knowing- functions. \n",
    "Functions are used to automate the boring stuff...\n",
    "\n",
    "Our first function:"
   ]
  },
  {
   "cell_type": "code",
   "execution_count": 44,
   "metadata": {},
   "outputs": [],
   "source": [
    "squared <- function(x) {\n",
    "  x * x\n",
    "}"
   ]
  },
  {
   "cell_type": "markdown",
   "metadata": {},
   "source": [
    "The funtion `squared` returns the squared values of an input vector:"
   ]
  },
  {
   "cell_type": "code",
   "execution_count": 45,
   "metadata": {},
   "outputs": [
    {
     "data": {
      "text/html": [
       "<ol class=list-inline>\n",
       "\t<li>1</li>\n",
       "\t<li>9</li>\n",
       "</ol>\n"
      ],
      "text/latex": [
       "\\begin{enumerate*}\n",
       "\\item 1\n",
       "\\item 9\n",
       "\\end{enumerate*}\n"
      ],
      "text/markdown": [
       "1. 1\n",
       "2. 9\n",
       "\n",
       "\n"
      ],
      "text/plain": [
       "[1] 1 9"
      ]
     },
     "metadata": {},
     "output_type": "display_data"
    }
   ],
   "source": [
    "squared(c(1,3))"
   ]
  },
  {
   "cell_type": "markdown",
   "metadata": {},
   "source": [
    "A function may have more arguments:"
   ]
  },
  {
   "cell_type": "code",
   "execution_count": 46,
   "metadata": {},
   "outputs": [
    {
     "data": {
      "text/html": [
       "14"
      ],
      "text/latex": [
       "14"
      ],
      "text/markdown": [
       "14"
      ],
      "text/plain": [
       "[1] 14"
      ]
     },
     "metadata": {},
     "output_type": "display_data"
    }
   ],
   "source": [
    "squared_plus <- function(x, y) {\n",
    "  x * x + y\n",
    "}\n",
    "\n",
    "squared_plus(3, 5)"
   ]
  },
  {
   "cell_type": "markdown",
   "metadata": {},
   "source": [
    "This functions uses two input variables and returns one output.\n",
    "\n",
    "\n",
    "\n",
    "> **Assignment**: Create a variable with 2 'inputs' which pastes the two inputs with the function `paste`  and run an example with your function that pastes \"house number\" to the number 110"
   ]
  },
  {
   "cell_type": "code",
   "execution_count": 48,
   "metadata": {},
   "outputs": [
    {
     "data": {
      "text/html": [
       "'hoursnumber 110'"
      ],
      "text/latex": [
       "'hoursnumber 110'"
      ],
      "text/markdown": [
       "'hoursnumber 110'"
      ],
      "text/plain": [
       "[1] \"hoursnumber 110\""
      ]
     },
     "metadata": {},
     "output_type": "display_data"
    },
    {
     "data": {
      "text/html": [
       "<ol class=list-inline>\n",
       "\t<li>'letter A'</li>\n",
       "\t<li>'letter B'</li>\n",
       "\t<li>'letter C'</li>\n",
       "\t<li>'letter D'</li>\n",
       "\t<li>'letter E'</li>\n",
       "\t<li>'letter F'</li>\n",
       "\t<li>'letter G'</li>\n",
       "\t<li>'letter H'</li>\n",
       "\t<li>'letter I'</li>\n",
       "\t<li>'letter J'</li>\n",
       "\t<li>'letter K'</li>\n",
       "\t<li>'letter L'</li>\n",
       "\t<li>'letter M'</li>\n",
       "\t<li>'letter N'</li>\n",
       "\t<li>'letter O'</li>\n",
       "\t<li>'letter P'</li>\n",
       "\t<li>'letter Q'</li>\n",
       "\t<li>'letter R'</li>\n",
       "\t<li>'letter S'</li>\n",
       "\t<li>'letter T'</li>\n",
       "\t<li>'letter U'</li>\n",
       "\t<li>'letter V'</li>\n",
       "\t<li>'letter W'</li>\n",
       "\t<li>'letter X'</li>\n",
       "\t<li>'letter Y'</li>\n",
       "\t<li>'letter Z'</li>\n",
       "</ol>\n"
      ],
      "text/latex": [
       "\\begin{enumerate*}\n",
       "\\item 'letter A'\n",
       "\\item 'letter B'\n",
       "\\item 'letter C'\n",
       "\\item 'letter D'\n",
       "\\item 'letter E'\n",
       "\\item 'letter F'\n",
       "\\item 'letter G'\n",
       "\\item 'letter H'\n",
       "\\item 'letter I'\n",
       "\\item 'letter J'\n",
       "\\item 'letter K'\n",
       "\\item 'letter L'\n",
       "\\item 'letter M'\n",
       "\\item 'letter N'\n",
       "\\item 'letter O'\n",
       "\\item 'letter P'\n",
       "\\item 'letter Q'\n",
       "\\item 'letter R'\n",
       "\\item 'letter S'\n",
       "\\item 'letter T'\n",
       "\\item 'letter U'\n",
       "\\item 'letter V'\n",
       "\\item 'letter W'\n",
       "\\item 'letter X'\n",
       "\\item 'letter Y'\n",
       "\\item 'letter Z'\n",
       "\\end{enumerate*}\n"
      ],
      "text/markdown": [
       "1. 'letter A'\n",
       "2. 'letter B'\n",
       "3. 'letter C'\n",
       "4. 'letter D'\n",
       "5. 'letter E'\n",
       "6. 'letter F'\n",
       "7. 'letter G'\n",
       "8. 'letter H'\n",
       "9. 'letter I'\n",
       "10. 'letter J'\n",
       "11. 'letter K'\n",
       "12. 'letter L'\n",
       "13. 'letter M'\n",
       "14. 'letter N'\n",
       "15. 'letter O'\n",
       "16. 'letter P'\n",
       "17. 'letter Q'\n",
       "18. 'letter R'\n",
       "19. 'letter S'\n",
       "20. 'letter T'\n",
       "21. 'letter U'\n",
       "22. 'letter V'\n",
       "23. 'letter W'\n",
       "24. 'letter X'\n",
       "25. 'letter Y'\n",
       "26. 'letter Z'\n",
       "\n",
       "\n"
      ],
      "text/plain": [
       " [1] \"letter A\" \"letter B\" \"letter C\" \"letter D\" \"letter E\" \"letter F\"\n",
       " [7] \"letter G\" \"letter H\" \"letter I\" \"letter J\" \"letter K\" \"letter L\"\n",
       "[13] \"letter M\" \"letter N\" \"letter O\" \"letter P\" \"letter Q\" \"letter R\"\n",
       "[19] \"letter S\" \"letter T\" \"letter U\" \"letter V\" \"letter W\" \"letter X\"\n",
       "[25] \"letter Y\" \"letter Z\""
      ]
     },
     "metadata": {},
     "output_type": "display_data"
    }
   ],
   "source": [
    "Paste <-  function( input1, input2) {\n",
    "    paste(input1, input2)\n",
    "}\n",
    "\n",
    "Paste(\"hoursnumber\", 110)  # paste two varibles\n",
    "\n",
    "Paste(\"letter\", LETTERS)  # the function also works with vectors\n"
   ]
  },
  {
   "cell_type": "markdown",
   "metadata": {},
   "source": [
    "# Dataframe's\n",
    "\n",
    "For the next function, we first need to create a dataset. We will use information that resembles the risk adjustment system in the Netherlands.\n",
    "\n",
    "We want to create a dataframe with 10.000 people. Therefore, we first create the variable `number_of_persons' and assign the number 10000 this variable.\n",
    "\n",
    "Then we will create a dataframe with the name `dt` noemen.And then we will create the variables \n",
    "\n",
    "* _ID_: runs from 1 to 10000\n",
    "* _Group_: number from 1 to 40\n",
    "* _FKG_: FKG score (drugs)\n",
    "* _DKG_: DKG score (diagnose)\n",
    "\n",
    "Group is a random number from 1 to 40. We will set `replace = TRUE`, otherwise we cannot assign the group numbers to 10.000 people. For FKG and DKG we will do the same.\n",
    "\n",
    "`FKG == 0` means that a person did not use drugs, while `FKG==1` means that a person used drugs. The same holds for DKG's.\n"
   ]
  },
  {
   "cell_type": "code",
   "execution_count": null,
   "metadata": {},
   "outputs": [],
   "source": [
    "number_of_persons <- 10000\n",
    "\n",
    "dt <- data.frame(\n",
    "  ID = 1:number_of_persons,\n",
    "  Group = sample(1:40, number_of_persons, replace = TRUE),\n",
    "  FKG = sample(0:1, number_of_persons, replace = TRUE),\n",
    "  DKG = sample(0:1, number_of_persons, replace = TRUE))\n",
    "\n",
    "head(dt) \n",
    "tail(dt)"
   ]
  },
  {
   "cell_type": "markdown",
   "metadata": {},
   "source": [
    "## What is the meaning of the variable _Group_ in this dataframe?\n",
    "\n",
    "We now have a dataframe with 10000 persons. Each person has an _ID_ (number from 1 to 10000).\n",
    "\n",
    "WE know each person the group he belongs to (number from 1 to 40)\n",
    "Each group is a combination of age and gender according to the following rules:\n",
    "\n",
    "* Group 1 to 20 are male\n",
    "* Group 21 to 40 are females\n",
    "* Group 1 is the age category from 0 to 4 jaar, group 2 from 5 to 9 jaar, etc.\n",
    "* The same holds for females, starting from group 21\n",
    "\n",
    "\n",
    "## The conditional statement ifelse\n",
    "\n",
    "\n",
    "We created a datafile similar to a part of the Dutch Riskadjustment Scheme. The column group does not give much insight. Therefore, we would like to add a new column \"gender\". And we would like to make a column that indicates if a certain person is younger or older than 65. \n",
    "Males are in group 1-20, females in 21-40.\n",
    "\n",
    "We need the following functions\n",
    "* `%>%`\n",
    "* `mutate`\n",
    "* `ifelse` \n",
    "\n",
    "The pipe operator `%>%` and the function `mutate` will be part of the datacamp `dplyr` course.\n",
    "\n",
    "`%>%` is the pipe-operator. You can read the pipeoperator as \"then\". First we assign  `dt1` to `dt` and then...\n",
    "\n",
    "`mutate` is the `dplyr` command to create a new variable (column).\n",
    "\n",
    "`mutate(Gender= ...)` creates a new variable with the name \"Gender\". The `=` indicates how this variable is defined.\n",
    "\n",
    "With `ifelse` we can create the condition male or female:"
   ]
  },
  {
   "cell_type": "code",
   "execution_count": 55,
   "metadata": {},
   "outputs": [
    {
     "data": {
      "text/html": [
       "<table>\n",
       "<thead><tr><th scope=col>ID</th><th scope=col>Group</th><th scope=col>FKG</th><th scope=col>DKG</th><th scope=col>Gender</th><th scope=col>Elderly</th></tr></thead>\n",
       "<tbody>\n",
       "\t<tr><td>1     </td><td>31    </td><td>0     </td><td>0     </td><td>female</td><td>65-   </td></tr>\n",
       "\t<tr><td>2     </td><td>34    </td><td>0     </td><td>0     </td><td>female</td><td>65+   </td></tr>\n",
       "\t<tr><td>3     </td><td> 3    </td><td>0     </td><td>1     </td><td>male  </td><td>65-   </td></tr>\n",
       "\t<tr><td>4     </td><td>15    </td><td>1     </td><td>1     </td><td>male  </td><td>65+   </td></tr>\n",
       "\t<tr><td>5     </td><td> 8    </td><td>1     </td><td>0     </td><td>male  </td><td>65-   </td></tr>\n",
       "\t<tr><td>6     </td><td>26    </td><td>0     </td><td>1     </td><td>female</td><td>65-   </td></tr>\n",
       "</tbody>\n",
       "</table>\n"
      ],
      "text/latex": [
       "\\begin{tabular}{r|llllll}\n",
       " ID & Group & FKG & DKG & Gender & Elderly\\\\\n",
       "\\hline\n",
       "\t 1      & 31     & 0      & 0      & female & 65-   \\\\\n",
       "\t 2      & 34     & 0      & 0      & female & 65+   \\\\\n",
       "\t 3      &  3     & 0      & 1      & male   & 65-   \\\\\n",
       "\t 4      & 15     & 1      & 1      & male   & 65+   \\\\\n",
       "\t 5      &  8     & 1      & 0      & male   & 65-   \\\\\n",
       "\t 6      & 26     & 0      & 1      & female & 65-   \\\\\n",
       "\\end{tabular}\n"
      ],
      "text/markdown": [
       "\n",
       "ID | Group | FKG | DKG | Gender | Elderly | \n",
       "|---|---|---|---|---|---|\n",
       "| 1      | 31     | 0      | 0      | female | 65-    | \n",
       "| 2      | 34     | 0      | 0      | female | 65+    | \n",
       "| 3      |  3     | 0      | 1      | male   | 65-    | \n",
       "| 4      | 15     | 1      | 1      | male   | 65+    | \n",
       "| 5      |  8     | 1      | 0      | male   | 65-    | \n",
       "| 6      | 26     | 0      | 1      | female | 65-    | \n",
       "\n",
       "\n"
      ],
      "text/plain": [
       "  ID Group FKG DKG Gender Elderly\n",
       "1 1  31    0   0   female 65-    \n",
       "2 2  34    0   0   female 65+    \n",
       "3 3   3    0   1   male   65-    \n",
       "4 4  15    1   1   male   65+    \n",
       "5 5   8    1   0   male   65-    \n",
       "6 6  26    0   1   female 65-    "
      ]
     },
     "metadata": {},
     "output_type": "display_data"
    }
   ],
   "source": [
    "dt1 <- dt %>%\n",
    "  mutate(Gender = ifelse(Group <= 20, \"male\", \"female\")) %>%\n",
    "  mutate(Elderly = ifelse(\n",
    "    (Group >= 14 & Group <= 20) | (Group >= 34 & Group <= 40), \"65+\", \"65-\"))\n",
    "head(dt1)\n"
   ]
  },
  {
   "cell_type": "markdown",
   "metadata": {},
   "source": [
    "The first part of the code reades as follows:\n",
    "\n",
    "1.  Create a dataframe `dt1`, use dataframe `dt`, then\n",
    "2.  create a new column `Gender`. If the group number (i.e. 1 - 40) is smaller or equal to twenty, give the value \"male\", else return value \"female\", then\n",
    "\n",
    "We add a new variable \"Elderly\". This is slightly more complex, because a male is an elderly if he is located in groups 14-20. Females belong to the elderly if they are in groups 34-40.\n",
    "\n",
    " `|` is the operator 'or'\n",
    "\n",
    "So the code continues:\n",
    "\n",
    "3.  create a new variable elderly. If the group number is larger or equal than 14 and is smaller than 20 OR the group number is larger than 34 and smaller than 40 return the value \"65+\" and else return value \"65-\"\n",
    "\n",
    "With `str(dt1)` we can inspect the structure of the data.\n"
   ]
  },
  {
   "cell_type": "code",
   "execution_count": 57,
   "metadata": {},
   "outputs": [
    {
     "data": {
      "text/plain": [
       "       ID            Group           FKG              DKG        \n",
       " Min.   :    1   Min.   : 1.0   Min.   :0.0000   Min.   :0.0000  \n",
       " 1st Qu.: 2501   1st Qu.:10.0   1st Qu.:0.0000   1st Qu.:0.0000  \n",
       " Median : 5000   Median :20.0   Median :1.0000   Median :0.0000  \n",
       " Mean   : 5000   Mean   :20.4   Mean   :0.5018   Mean   :0.4992  \n",
       " 3rd Qu.: 7500   3rd Qu.:31.0   3rd Qu.:1.0000   3rd Qu.:1.0000  \n",
       " Max.   :10000   Max.   :40.0   Max.   :1.0000   Max.   :1.0000  \n",
       "    Gender            Elderly         \n",
       " Length:10000       Length:10000      \n",
       " Class :character   Class :character  \n",
       " Mode  :character   Mode  :character  \n",
       "                                      \n",
       "                                      \n",
       "                                      "
      ]
     },
     "metadata": {},
     "output_type": "display_data"
    }
   ],
   "source": [
    "summary(dt1)"
   ]
  },
  {
   "cell_type": "markdown",
   "metadata": {},
   "source": [
    "With `summary(dt1)` we can have a summary of the data"
   ]
  },
  {
   "cell_type": "code",
   "execution_count": null,
   "metadata": {},
   "outputs": [],
   "source": [
    "summary(dt1)"
   ]
  },
  {
   "cell_type": "markdown",
   "metadata": {},
   "source": [
    "## To use a function\n",
    "\n",
    "It is possible to classify people in age groups of 5 year with`ifelse()`. This could look something like this:\n"
   ]
  },
  {
   "cell_type": "code",
   "execution_count": null,
   "metadata": {},
   "outputs": [],
   "source": [
    "dt1a <- dt1 %>%\n",
    "  mutate(age_class = ifelse(Group== 1 | Group==21, \"00-04\",\n",
    "                            ifelse(Group== 2 | Group==22, \"05-09\", \n",
    "                             ifelse(Group==3 | Group ==23, \"10-14\",\n",
    "                                   \"old\"))))\n",
    "head(dt1a)"
   ]
  },
  {
   "cell_type": "markdown",
   "metadata": {},
   "source": [
    "\n",
    "This is very time consuming. If you need a code multiple times, you could use a function.\n",
    "\n",
    "\n",
    "\n",
    "> **Assignment**: Create a function `age_category` which translates a a group into a age_category (i.e. age_category is a function of group)\n",
    "Example: We would like to change the groupnumber 3 into a category \"10-14\".\n",
    "Therefore, we need to change values into a text. We can do this with the existing function `paste0()`\n",
    "(see the help files or [here](https://www.r-bloggers.com/difference-between-paste-and-paste0/))\n",
    "\n",
    "\n",
    "\n"
   ]
  },
  {
   "cell_type": "code",
   "execution_count": 59,
   "metadata": {},
   "outputs": [],
   "source": [
    "age_category <- function (group)\n",
    "{\n",
    "  age_start <- group*5 -5            # start age range\n",
    "  age_end <- group*5 -1              # end age range\n",
    "  \n",
    "  age_label <- paste0(age_start , \"-\", age_end)             # text label\n",
    "}\n"
   ]
  },
  {
   "cell_type": "markdown",
   "metadata": {},
   "source": [
    "1. Define parameter `age_start`. This should be equal to the group number multiplied with 5 minus 5.\n",
    "3. The same holds for `age_end` , but then with minus 1  in stead of minus 5 \n",
    "4. With `paste0` we can paste `age_start` and `age_end` with a minus between them. For group 1 we should receive a label '0-4' and group 14 should be translated in '65-69'. \n",
    "\n",
    "a.  Now you can print the age_category 3 and\n",
    "b.  A vector of the age category 1:20"
   ]
  },
  {
   "cell_type": "code",
   "execution_count": 60,
   "metadata": {},
   "outputs": [
    {
     "name": "stdout",
     "output_type": "stream",
     "text": [
      "[1] \"10-14\"\n",
      " [1] \"0-4\"   \"5-9\"   \"10-14\" \"15-19\" \"20-24\" \"25-29\" \"30-34\" \"35-39\" \"40-44\"\n",
      "[10] \"45-49\" \"50-54\" \"55-59\" \"60-64\" \"65-69\" \"70-74\" \"75-79\" \"80-84\" \"85-89\"\n",
      "[19] \"90-94\" \"95-99\"\n"
     ]
    }
   ],
   "source": [
    "# a single group\n",
    "print(age_category(3))\n",
    "\n",
    "# a vector of groups\n",
    "print(age_category(1:20))"
   ]
  },
  {
   "cell_type": "markdown",
   "metadata": {},
   "source": [
    "Now we are ready to apply our function to our dataframe and create a new column:"
   ]
  },
  {
   "cell_type": "code",
   "execution_count": 61,
   "metadata": {},
   "outputs": [
    {
     "data": {
      "text/html": [
       "<table>\n",
       "<thead><tr><th scope=col>ID</th><th scope=col>Group</th><th scope=col>FKG</th><th scope=col>DKG</th><th scope=col>Gender</th><th scope=col>Elderly</th><th scope=col>Age</th></tr></thead>\n",
       "<tbody>\n",
       "\t<tr><td>1     </td><td>31    </td><td>0     </td><td>0     </td><td>female</td><td>65-   </td><td>50-54 </td></tr>\n",
       "\t<tr><td>2     </td><td>34    </td><td>0     </td><td>0     </td><td>female</td><td>65+   </td><td>65-69 </td></tr>\n",
       "\t<tr><td>3     </td><td> 3    </td><td>0     </td><td>1     </td><td>male  </td><td>65-   </td><td>10-14 </td></tr>\n",
       "\t<tr><td>4     </td><td>15    </td><td>1     </td><td>1     </td><td>male  </td><td>65+   </td><td>70-74 </td></tr>\n",
       "\t<tr><td>5     </td><td> 8    </td><td>1     </td><td>0     </td><td>male  </td><td>65-   </td><td>35-39 </td></tr>\n",
       "\t<tr><td>6     </td><td>26    </td><td>0     </td><td>1     </td><td>female</td><td>65-   </td><td>25-29 </td></tr>\n",
       "</tbody>\n",
       "</table>\n"
      ],
      "text/latex": [
       "\\begin{tabular}{r|lllllll}\n",
       " ID & Group & FKG & DKG & Gender & Elderly & Age\\\\\n",
       "\\hline\n",
       "\t 1      & 31     & 0      & 0      & female & 65-    & 50-54 \\\\\n",
       "\t 2      & 34     & 0      & 0      & female & 65+    & 65-69 \\\\\n",
       "\t 3      &  3     & 0      & 1      & male   & 65-    & 10-14 \\\\\n",
       "\t 4      & 15     & 1      & 1      & male   & 65+    & 70-74 \\\\\n",
       "\t 5      &  8     & 1      & 0      & male   & 65-    & 35-39 \\\\\n",
       "\t 6      & 26     & 0      & 1      & female & 65-    & 25-29 \\\\\n",
       "\\end{tabular}\n"
      ],
      "text/markdown": [
       "\n",
       "ID | Group | FKG | DKG | Gender | Elderly | Age | \n",
       "|---|---|---|---|---|---|\n",
       "| 1      | 31     | 0      | 0      | female | 65-    | 50-54  | \n",
       "| 2      | 34     | 0      | 0      | female | 65+    | 65-69  | \n",
       "| 3      |  3     | 0      | 1      | male   | 65-    | 10-14  | \n",
       "| 4      | 15     | 1      | 1      | male   | 65+    | 70-74  | \n",
       "| 5      |  8     | 1      | 0      | male   | 65-    | 35-39  | \n",
       "| 6      | 26     | 0      | 1      | female | 65-    | 25-29  | \n",
       "\n",
       "\n"
      ],
      "text/plain": [
       "  ID Group FKG DKG Gender Elderly Age  \n",
       "1 1  31    0   0   female 65-     50-54\n",
       "2 2  34    0   0   female 65+     65-69\n",
       "3 3   3    0   1   male   65-     10-14\n",
       "4 4  15    1   1   male   65+     70-74\n",
       "5 5   8    1   0   male   65-     35-39\n",
       "6 6  26    0   1   female 65-     25-29"
      ]
     },
     "metadata": {},
     "output_type": "display_data"
    }
   ],
   "source": [
    "dt2 <- dt1 %>%\n",
    "  mutate(Age = ifelse(Group <= 20, age_category(Group), age_category(Group - 20)))\n",
    "\n",
    "head(dt2)"
   ]
  },
  {
   "cell_type": "markdown",
   "metadata": {},
   "source": [
    "The code reads:\n",
    "\n",
    "1. Create a new dataframe `dt2`, which is equal to `dt1`, then....\n",
    "2. Create a new column `Age` with `mutate`. For males (Group is smaller or equal to 20) we can use  use our function `age_category(Group)` directly. For females we can use the age category for the groupnumber minus 20. \n",
    "\n",
    "For the graded assignment 2 we need dt2. Therefore, we store the dataframe as csv in sourcedata.\n"
   ]
  },
  {
   "cell_type": "code",
   "execution_count": 62,
   "metadata": {},
   "outputs": [],
   "source": [
    "write.csv2(dt2, \"../Sourcedata/graded_assignment_2.csv\", row.names = FALSE)"
   ]
  },
  {
   "cell_type": "markdown",
   "metadata": {},
   "source": [
    "End notebook"
   ]
  },
  {
   "cell_type": "code",
   "execution_count": null,
   "metadata": {},
   "outputs": [],
   "source": []
  }
 ],
 "metadata": {
  "anaconda-cloud": {},
  "kernelspec": {
   "display_name": "R",
   "language": "R",
   "name": "ir"
  },
  "language_info": {
   "codemirror_mode": "r",
   "file_extension": ".r",
   "mimetype": "text/x-r-source",
   "name": "R",
   "pygments_lexer": "r",
   "version": "3.3.3"
  }
 },
 "nbformat": 4,
 "nbformat_minor": 1
}
