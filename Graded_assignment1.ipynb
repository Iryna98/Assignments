{
 "cells": [
  {
   "cell_type": "markdown",
   "metadata": {},
   "source": [
    "# Graded assignment 1\n",
    "\n",
    "Mark Klik & Misja Mikkers\n",
    "\n",
    "\n",
    "# Packages\n",
    "\n",
    "We need the package `tidyverse`"
   ]
  },
  {
   "cell_type": "code",
   "execution_count": 1,
   "metadata": {},
   "outputs": [
    {
     "name": "stderr",
     "output_type": "stream",
     "text": [
      "-- Attaching packages --------------------------------------- tidyverse 1.2.1 --\n",
      "<U+221A> ggplot2 2.2.1     <U+221A> purrr   0.2.4\n",
      "<U+221A> tibble  1.4.2     <U+221A> dplyr   0.7.4\n",
      "<U+221A> tidyr   0.8.0     <U+221A> stringr 1.3.0\n",
      "<U+221A> readr   1.1.1     <U+221A> forcats 0.3.0\n",
      "-- Conflicts ------------------------------------------ tidyverse_conflicts() --\n",
      "x dplyr::filter() masks stats::filter()\n",
      "x dplyr::lag()    masks stats::lag()\n"
     ]
    }
   ],
   "source": [
    "library(tidyverse) "
   ]
  },
  {
   "cell_type": "markdown",
   "metadata": {},
   "source": [
    "# Assignment 1\n",
    "\n",
    "First, we generate some random data:"
   ]
  },
  {
   "cell_type": "code",
   "execution_count": 4,
   "metadata": {},
   "outputs": [
    {
     "data": {
      "text/html": [
       "<table>\n",
       "<thead><tr><th scope=col>V1</th><th scope=col>V2</th><th scope=col>V3</th><th scope=col>V4</th><th scope=col>V5</th><th scope=col>V6</th><th scope=col>V7</th><th scope=col>V8</th><th scope=col>V9</th><th scope=col>V10</th><th scope=col>V11</th><th scope=col>V12</th><th scope=col>V13</th><th scope=col>V14</th><th scope=col>V15</th><th scope=col>V16</th><th scope=col>V17</th><th scope=col>V18</th><th scope=col>V19</th><th scope=col>V20</th></tr></thead>\n",
       "<tbody>\n",
       "\t<tr><td>0.5354232  </td><td>0.2249460  </td><td>0.6477022  </td><td>0.6883457  </td><td>0.3812886  </td><td>0.2758890  </td><td>0.2876209  </td><td>0.09693642 </td><td>0.9458573  </td><td>0.6466998  </td><td>0.2040720  </td><td>0.01683959 </td><td>0.8747655  </td><td>0.1255905  </td><td>0.6932493  </td><td>0.2429624  </td><td>0.7138738  </td><td>0.3486898  </td><td>0.7524257  </td><td>0.566530329</td></tr>\n",
       "\t<tr><td>0.1800904  </td><td>0.8042258  </td><td>0.9994616  </td><td>0.7289843  </td><td>0.4726363  </td><td>0.1758506  </td><td>0.7292607  </td><td>0.85036690 </td><td>0.7817908  </td><td>0.6698567  </td><td>0.4420549  </td><td>0.67375614 </td><td>0.6784593  </td><td>0.4339054  </td><td>0.9833230  </td><td>0.7546722  </td><td>0.2838772  </td><td>0.4781837  </td><td>0.5514137  </td><td>0.008567376</td></tr>\n",
       "</tbody>\n",
       "</table>\n"
      ],
      "text/latex": [
       "\\begin{tabular}{r|llllllllllllllllllll}\n",
       " V1 & V2 & V3 & V4 & V5 & V6 & V7 & V8 & V9 & V10 & V11 & V12 & V13 & V14 & V15 & V16 & V17 & V18 & V19 & V20\\\\\n",
       "\\hline\n",
       "\t 0.5354232   & 0.2249460   & 0.6477022   & 0.6883457   & 0.3812886   & 0.2758890   & 0.2876209   & 0.09693642  & 0.9458573   & 0.6466998   & 0.2040720   & 0.01683959  & 0.8747655   & 0.1255905   & 0.6932493   & 0.2429624   & 0.7138738   & 0.3486898   & 0.7524257   & 0.566530329\\\\\n",
       "\t 0.1800904   & 0.8042258   & 0.9994616   & 0.7289843   & 0.4726363   & 0.1758506   & 0.7292607   & 0.85036690  & 0.7817908   & 0.6698567   & 0.4420549   & 0.67375614  & 0.6784593   & 0.4339054   & 0.9833230   & 0.7546722   & 0.2838772   & 0.4781837   & 0.5514137   & 0.008567376\\\\\n",
       "\\end{tabular}\n"
      ],
      "text/markdown": [
       "\n",
       "V1 | V2 | V3 | V4 | V5 | V6 | V7 | V8 | V9 | V10 | V11 | V12 | V13 | V14 | V15 | V16 | V17 | V18 | V19 | V20 | \n",
       "|---|---|\n",
       "| 0.5354232   | 0.2249460   | 0.6477022   | 0.6883457   | 0.3812886   | 0.2758890   | 0.2876209   | 0.09693642  | 0.9458573   | 0.6466998   | 0.2040720   | 0.01683959  | 0.8747655   | 0.1255905   | 0.6932493   | 0.2429624   | 0.7138738   | 0.3486898   | 0.7524257   | 0.566530329 | \n",
       "| 0.1800904   | 0.8042258   | 0.9994616   | 0.7289843   | 0.4726363   | 0.1758506   | 0.7292607   | 0.85036690  | 0.7817908   | 0.6698567   | 0.4420549   | 0.67375614  | 0.6784593   | 0.4339054   | 0.9833230   | 0.7546722   | 0.2838772   | 0.4781837   | 0.5514137   | 0.008567376 | \n",
       "\n",
       "\n"
      ],
      "text/plain": [
       "  V1        V2        V3        V4        V5        V6        V7       \n",
       "1 0.5354232 0.2249460 0.6477022 0.6883457 0.3812886 0.2758890 0.2876209\n",
       "2 0.1800904 0.8042258 0.9994616 0.7289843 0.4726363 0.1758506 0.7292607\n",
       "  V8         V9        V10       V11       V12        V13       V14      \n",
       "1 0.09693642 0.9458573 0.6466998 0.2040720 0.01683959 0.8747655 0.1255905\n",
       "2 0.85036690 0.7817908 0.6698567 0.4420549 0.67375614 0.6784593 0.4339054\n",
       "  V15       V16       V17       V18       V19       V20        \n",
       "1 0.6932493 0.2429624 0.7138738 0.3486898 0.7524257 0.566530329\n",
       "2 0.9833230 0.7546722 0.2838772 0.4781837 0.5514137 0.008567376"
      ]
     },
     "metadata": {},
     "output_type": "display_data"
    }
   ],
   "source": [
    "df1 <- as.data.frame(matrix(runif(20*2), ncol=20) )\n",
    "head(df1)"
   ]
  },
  {
   "cell_type": "markdown",
   "metadata": {},
   "source": [
    "_df1_ is a wide dataframe. The goal of the assignment is to change _df1_ into a long dataframe _df2_. And show the first rows of the dataframe using `head(df2)`\n",
    "\n",
    "The dataframe _df2_ should look like this:\n",
    "\n",
    "| Key | Value      |\n",
    "|-----|------------|\n",
    "| V1  | 0.09413864 |\n",
    "| V1  | 0.69782526 |\n",
    "| V2  | 0.23460454 |\n",
    "| V2  | 0.51520514 |\n",
    "| V3  | 0.63181844 |\n",
    "| V3  | 0.22807211 |"
   ]
  },
  {
   "cell_type": "code",
   "execution_count": 7,
   "metadata": {},
   "outputs": [
    {
     "name": "stdout",
     "output_type": "stream",
     "text": [
      "   Key       Value\n",
      "1   V1 0.535423228\n",
      "2   V1 0.180090417\n",
      "3   V2 0.224946007\n",
      "4   V2 0.804225798\n",
      "5   V3 0.647702222\n",
      "6   V3 0.999461638\n",
      "7   V4 0.688345714\n",
      "8   V4 0.728984343\n",
      "9   V5 0.381288595\n",
      "10  V5 0.472636258\n",
      "11  V6 0.275888973\n",
      "12  V6 0.175850569\n",
      "13  V7 0.287620883\n",
      "14  V7 0.729260710\n",
      "15  V8 0.096936421\n",
      "16  V8 0.850366902\n",
      "17  V9 0.945857330\n",
      "18  V9 0.781790836\n",
      "19 V10 0.646699839\n",
      "20 V10 0.669856742\n",
      "21 V11 0.204072036\n",
      "22 V11 0.442054905\n",
      "23 V12 0.016839594\n",
      "24 V12 0.673756143\n",
      "25 V13 0.874765506\n",
      "26 V13 0.678459318\n",
      "27 V14 0.125590453\n",
      "28 V14 0.433905418\n",
      "29 V15 0.693249263\n",
      "30 V15 0.983322959\n",
      "31 V16 0.242962388\n",
      "32 V16 0.754672164\n",
      "33 V17 0.713873809\n",
      "34 V17 0.283877190\n",
      "35 V18 0.348689833\n",
      "36 V18 0.478183725\n",
      "37 V19 0.752425736\n",
      "38 V19 0.551413742\n",
      "39 V20 0.566530329\n",
      "40 V20 0.008567376\n"
     ]
    }
   ],
   "source": [
    "df2 <- df1 %>% gather(Key, Value, V1:V20)\n",
    "  \n",
    "\n",
    "print(df2)"
   ]
  },
  {
   "cell_type": "markdown",
   "metadata": {},
   "source": [
    "## Assignment 2\n",
    "\n",
    "We will generate some data:"
   ]
  },
  {
   "cell_type": "code",
   "execution_count": 8,
   "metadata": {},
   "outputs": [
    {
     "data": {
      "text/html": [
       "<table>\n",
       "<thead><tr><th scope=col>id</th><th scope=col>V_1</th><th scope=col>V_2</th></tr></thead>\n",
       "<tbody>\n",
       "\t<tr><td>1        </td><td>42.46757 </td><td>-87.81005</td></tr>\n",
       "\t<tr><td>2        </td><td>42.04915 </td><td>-88.27303</td></tr>\n",
       "\t<tr><td>3        </td><td>39.11054 </td><td>-90.32408</td></tr>\n",
       "</tbody>\n",
       "</table>\n"
      ],
      "text/latex": [
       "\\begin{tabular}{r|lll}\n",
       " id & V\\_1 & V\\_2\\\\\n",
       "\\hline\n",
       "\t 1         & 42.46757  & -87.81005\\\\\n",
       "\t 2         & 42.04915  & -88.27303\\\\\n",
       "\t 3         & 39.11054  & -90.32408\\\\\n",
       "\\end{tabular}\n"
      ],
      "text/markdown": [
       "\n",
       "id | V_1 | V_2 | \n",
       "|---|---|---|\n",
       "| 1         | 42.46757  | -87.81005 | \n",
       "| 2         | 42.04915  | -88.27303 | \n",
       "| 3         | 39.11054  | -90.32408 | \n",
       "\n",
       "\n"
      ],
      "text/plain": [
       "  id V_1      V_2      \n",
       "1 1  42.46757 -87.81005\n",
       "2 2  42.04915 -88.27303\n",
       "3 3  39.11054 -90.32408"
      ]
     },
     "metadata": {},
     "output_type": "display_data"
    }
   ],
   "source": [
    "df3 <- as.data.frame(read.table(header=TRUE, text='\n",
    "      id        V_1       V_2                \n",
    "          1  42.467573  -87.810047     \n",
    "          2  42.049148  -88.273029\n",
    "          3  39.110539  -90.324080\n",
    "                       '))\n",
    "\n",
    "head(df3)"
   ]
  },
  {
   "cell_type": "code",
   "execution_count": 5,
   "metadata": {},
   "outputs": [
    {
     "data": {
      "text/html": [
       "<table>\n",
       "<thead><tr><th scope=col>V_3</th><th scope=col>V_4</th><th scope=col>id</th></tr></thead>\n",
       "<tbody>\n",
       "\t<tr><td>one  </td><td>1h   </td><td>1    </td></tr>\n",
       "\t<tr><td>two  </td><td>1h   </td><td>1    </td></tr>\n",
       "\t<tr><td>three</td><td>8h   </td><td>2    </td></tr>\n",
       "\t<tr><td>four </td><td>1h   </td><td>4    </td></tr>\n",
       "</tbody>\n",
       "</table>\n"
      ],
      "text/latex": [
       "\\begin{tabular}{r|lll}\n",
       " V\\_3 & V\\_4 & id\\\\\n",
       "\\hline\n",
       "\t one   & 1h    & 1    \\\\\n",
       "\t two   & 1h    & 1    \\\\\n",
       "\t three & 8h    & 2    \\\\\n",
       "\t four  & 1h    & 4    \\\\\n",
       "\\end{tabular}\n"
      ],
      "text/markdown": [
       "\n",
       "V_3 | V_4 | id | \n",
       "|---|---|---|---|\n",
       "| one   | 1h    | 1     | \n",
       "| two   | 1h    | 1     | \n",
       "| three | 8h    | 2     | \n",
       "| four  | 1h    | 4     | \n",
       "\n",
       "\n"
      ],
      "text/plain": [
       "  V_3   V_4 id\n",
       "1 one   1h  1 \n",
       "2 two   1h  1 \n",
       "3 three 8h  2 \n",
       "4 four  1h  4 "
      ]
     },
     "metadata": {},
     "output_type": "display_data"
    }
   ],
   "source": [
    "df4 <- as.data.frame(read.table(header=TRUE, text='\n",
    "     V_3            V_4         id                 \n",
    "      one         1h            1\n",
    "      two         1h            1\n",
    "      three       8h            2\n",
    "      four        1h            4\n",
    "'))\n",
    "\n",
    "head(df4)"
   ]
  },
  {
   "cell_type": "markdown",
   "metadata": {},
   "source": [
    "\n",
    "You will have to merge these files, returning all rows and all columns from both _df3_ and _df5_. Where there are not matching values, return _NA_ for the missings. \n",
    "\n",
    "This should be the end result:\n",
    "\n",
    "| id | V_1      | V_2       | V_3   | V_4 |\n",
    "|----|----------|-----------|-------|-----|\n",
    "| 1  | 42.46757 | -87.81005 | one   | 1h  |\n",
    "| 1  | 42.46757 | -87.81005 | two   | 1h  |\n",
    "| 2  | 42.04915 | -88.27303 | three | 8h  |\n",
    "| 3  | 39.11054 | -90.32408 | NA    | NA  |\n",
    "| 4  | NA       | NA        | four  | 1h  |\n",
    "\n"
   ]
  },
  {
   "cell_type": "code",
   "execution_count": 6,
   "metadata": {},
   "outputs": [
    {
     "ename": "ERROR",
     "evalue": "Error in eval(expr, envir, enclos): object 'df5' not found\n",
     "output_type": "error",
     "traceback": [
      "Error in eval(expr, envir, enclos): object 'df5' not found\nTraceback:\n"
     ]
    }
   ],
   "source": [
    "df5 <- full_merge(df3, df4, by)\n",
    "df5"
   ]
  },
  {
   "cell_type": "markdown",
   "metadata": {},
   "source": [
    "End of notebook"
   ]
  },
  {
   "cell_type": "code",
   "execution_count": null,
   "metadata": {},
   "outputs": [],
   "source": []
  }
 ],
 "metadata": {
  "anaconda-cloud": {},
  "kernelspec": {
   "display_name": "R",
   "language": "R",
   "name": "ir"
  },
  "language_info": {
   "codemirror_mode": "r",
   "file_extension": ".r",
   "mimetype": "text/x-r-source",
   "name": "R",
   "pygments_lexer": "r",
   "version": "3.3.3"
  }
 },
 "nbformat": 4,
 "nbformat_minor": 1
}
